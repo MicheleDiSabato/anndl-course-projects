{
  "cells": [
    {
      "cell_type": "markdown",
      "metadata": {
        "id": "g0roNfCo92gU"
      },
      "source": [
        "Authors: *Alessia Cotroneo - Alessandro Del Vitto - Michele Di Sabato* \n",
        "\n",
        "In this Notebook we implement Fine Tuning on the VGG16 architecture. We have decided to include after the VGG16 layers two additional ones constructed as follows:\n",
        "\n",
        "---\n",
        "\n",
        "```\n",
        "\n",
        "conv1 = tfkl.Conv2D(\n",
        "        filters=128,\n",
        "        kernel_size=(3, 3),\n",
        "        strides = (1, 1),\n",
        "        padding = 'same',\n",
        "        activation = 'relu',\n",
        "        kernel_initializer = tfk.initializers.GlorotUniform(seed)\n",
        "    )(x)\n",
        "pool1 = tfkl.MaxPooling2D(\n",
        "        pool_size = (2, 2)\n",
        "    )(conv1)\n",
        "\n",
        "conv2 = tfkl.Conv2D(\n",
        "        filters=64,\n",
        "        kernel_size=(3, 3),\n",
        "        strides = (1, 1),\n",
        "        padding = 'same',\n",
        "        activation = 'relu',\n",
        "        kernel_initializer = tfk.initializers.GlorotUniform(seed)\n",
        "    )(pool1)\n",
        "pool2 = tfkl.MaxPooling2D(\n",
        "        pool_size = (2, 2)\n",
        "    )(conv2)\n",
        "\n",
        "```\n",
        "---\n",
        "We added the two pairs of Conv2D + MaxPooling2D since we noticed that the switch from the feature extraction layers and the fully connected ones was very quick. Moreover, according to the universal approximation theorem we used two dense layers after the feature extraction part."
      ]
    },
    {
      "cell_type": "code",
      "execution_count": 1,
      "metadata": {
        "colab": {
          "base_uri": "https://localhost:8080/"
        },
        "id": "5-35gnQG8yoS",
        "outputId": "18880377-4b76-43dd-b2c8-4e7ed8031401"
      },
      "outputs": [
        {
          "name": "stdout",
          "output_type": "stream",
          "text": [
            "Drive already mounted at /gdrive; to attempt to forcibly remount, call drive.mount(\"/gdrive\", force_remount=True).\n"
          ]
        }
      ],
      "source": [
        "from google.colab import drive\n",
        "drive.mount('/gdrive')"
      ]
    },
    {
      "cell_type": "code",
      "execution_count": 2,
      "metadata": {
        "colab": {
          "base_uri": "https://localhost:8080/"
        },
        "id": "8-rJySmy835Y",
        "outputId": "bc14c4cd-9bba-4108-83b9-9d2796ab1c96"
      },
      "outputs": [
        {
          "name": "stdout",
          "output_type": "stream",
          "text": [
            "/gdrive/MyDrive/Colab Notebooks/ANN&DL First Challenge\n"
          ]
        }
      ],
      "source": [
        "%cd /gdrive/MyDrive/Colab Notebooks/ANN&DL First Challenge\n",
        "# %cd /gdrive/MyDrive/path/to/your/folder"
      ]
    },
    {
      "cell_type": "code",
      "execution_count": 3,
      "metadata": {
        "id": "1vGYyhLl5cZY"
      },
      "outputs": [],
      "source": [
        "!unzip dataset.zip"
      ]
    },
    {
      "cell_type": "code",
      "execution_count": 3,
      "metadata": {
        "id": "NztFWPFc5dvC"
      },
      "outputs": [],
      "source": [
        "dataset_dir = 'training'"
      ]
    },
    {
      "cell_type": "markdown",
      "metadata": {
        "id": "PO5QICh3VgPy"
      },
      "source": [
        "## Import libraries, mount the Drive and set seeds"
      ]
    },
    {
      "cell_type": "code",
      "execution_count": 4,
      "metadata": {
        "colab": {
          "base_uri": "https://localhost:8080/"
        },
        "id": "Kad8mvnp85ML",
        "outputId": "aa070a5f-ca87-4bf4-f8d4-d1b2ff63d65b"
      },
      "outputs": [
        {
          "name": "stdout",
          "output_type": "stream",
          "text": [
            "2.7.0\n",
            "Requirement already satisfied: visualkeras in /usr/local/lib/python3.7/dist-packages (0.0.2)\n",
            "Requirement already satisfied: aggdraw>=1.3.11 in /usr/local/lib/python3.7/dist-packages (from visualkeras) (1.3.12)\n",
            "Requirement already satisfied: numpy>=1.18.1 in /usr/local/lib/python3.7/dist-packages (from visualkeras) (1.19.5)\n",
            "Requirement already satisfied: pillow>=6.2.0 in /usr/local/lib/python3.7/dist-packages (from visualkeras) (7.1.2)\n"
          ]
        }
      ],
      "source": [
        "# We import the packages provo a modificare\n",
        "import os\n",
        "import numpy as np\n",
        "from PIL import Image\n",
        "import matplotlib.pyplot as plt\n",
        "import tensorflow as tf\n",
        "import numpy as np\n",
        "import os\n",
        "import random\n",
        "import pandas as pd\n",
        "import seaborn as sns\n",
        "import matplotlib as mpl\n",
        "import matplotlib.pyplot as plt\n",
        "from sklearn.model_selection import train_test_split\n",
        "from sklearn.metrics import accuracy_score, f1_score, precision_score, recall_score\n",
        "from sklearn.metrics import confusion_matrix\n",
        "from tensorflow.keras.preprocessing.image import ImageDataGenerator\n",
        "\n",
        "\n",
        "tfk = tf.keras\n",
        "tfkl = tf.keras.layers\n",
        "print(tf.__version__)\n",
        "\n",
        "!pip install visualkeras\n",
        "import visualkeras\n",
        "\n",
        "# Random seed for reproducibility\n",
        "seed = 123\n",
        "\n",
        "random.seed(seed)\n",
        "os.environ['PYTHONHASHSEED'] = str(seed)\n",
        "np.random.seed(seed)\n",
        "tf.random.set_seed(seed)\n",
        "tf.compat.v1.set_random_seed(seed)"
      ]
    },
    {
      "cell_type": "markdown",
      "metadata": {
        "id": "ca6_lPK76_gy"
      },
      "source": [
        "## Definition of useful functions"
      ]
    },
    {
      "cell_type": "markdown",
      "metadata": {
        "id": "Tq9vWGPb7DsY"
      },
      "source": [
        "### get_next_batch"
      ]
    },
    {
      "cell_type": "code",
      "execution_count": 5,
      "metadata": {
        "id": "5vrdMYePx3Xu"
      },
      "outputs": [],
      "source": [
        "def get_next_batch(generator):\n",
        "  batch = next(generator)\n",
        "\n",
        "  image = batch[0]\n",
        "  target = batch[1]\n",
        "\n",
        "  print(\"(Input) image shape:\", image.shape)\n",
        "  print(\"Target shape:\",target.shape)\n",
        "\n",
        "  # Visualize only the first sample\n",
        "  image = image[0]\n",
        "  target = target[0]\n",
        "  target_idx = np.argmax(target)\n",
        "  print()\n",
        "  print(\"Categorical label:\", target)\n",
        "  print(\"Label:\", target_idx)\n",
        "  print(\"Class name:\", labels[target_idx])\n",
        "  # plot the \"central\" point to see the effect of the preprocessing\n",
        "  print(\"Middle Pixel Value R: \", image[125][125][0])\n",
        "  print(\"Middle Pixel Value G: \", image[125][125][1])\n",
        "  print(\"Middle Pixel Value B: \", image[125][125][2])\n",
        "  fig = plt.figure(figsize=(6, 4))\n",
        "  plt.imshow(np.uint8(image))\n",
        "\n",
        "  return batch"
      ]
    },
    {
      "cell_type": "markdown",
      "metadata": {
        "id": "JKLpABS07HbI"
      },
      "source": [
        "### create_folders_and_callbacks"
      ]
    },
    {
      "cell_type": "code",
      "execution_count": 6,
      "metadata": {
        "id": "-37ig0Yqdejl"
      },
      "outputs": [],
      "source": [
        "# Utility function to create folders and callbacks for training\n",
        "from datetime import datetime\n",
        "\n",
        "def create_folders_and_callbacks(model_name,transfer_learning=False):\n",
        "  \n",
        "  # creates folders and callbacks, collected into a list, since the argument \"callbacks\" in the function .fit() requires a list\n",
        "\n",
        "  if transfer_learning:\n",
        "    exps_dir = os.path.join('CNN_TL')\n",
        "  else:\n",
        "    exps_dir = os.path.join('CNN')\n",
        "  if not os.path.exists(exps_dir):\n",
        "      os.makedirs(exps_dir) # creates and SETS the directory if not found\n",
        "\n",
        "  now = datetime.now().strftime('%b%d_%H-%M-%S')\n",
        "\n",
        "  exp_dir = os.path.join(exps_dir, model_name + '_' + str(now))\n",
        "  if not os.path.exists(exp_dir):\n",
        "      os.makedirs(exp_dir)\n",
        "      \n",
        "  callbacks = []\n",
        "\n",
        "  # Model checkpoint\n",
        "  # ----------------\n",
        "  ckpt_dir = os.path.join(exp_dir, 'ckpts')\n",
        "  if not os.path.exists(ckpt_dir):\n",
        "      os.makedirs(ckpt_dir)\n",
        "\n",
        "  ckpt_callback = tf.keras.callbacks.ModelCheckpoint(filepath=os.path.join(ckpt_dir, 'cp.ckpt'), \n",
        "                                                     save_weights_only=False, # True to save only weights\n",
        "                                                     save_best_only=False) # True to save only the best epoch \n",
        "  callbacks.append(ckpt_callback)\n",
        "\n",
        "  # Visualize Learning on Tensorboard\n",
        "  # ---------------------------------\n",
        "  tb_dir = os.path.join(exp_dir, 'tb_logs')\n",
        "  if not os.path.exists(tb_dir):\n",
        "      os.makedirs(tb_dir)\n",
        "      \n",
        "  # By default shows losses and metrics for both training and validation\n",
        "  tb_callback = tf.keras.callbacks.TensorBoard(log_dir=tb_dir, \n",
        "                                               profile_batch=0,\n",
        "                                               histogram_freq=1)  # if > 0 (epochs) shows weights histograms\n",
        "                                                                  # histogram_freq = 5 means that i want to save 1 in 5 epochs (e.g. 1, 6, 6+5, ...)\n",
        "                                                                  # histogram_freq = 1 means that i want to save 1 in 5 epochs (e.g. 1, 2, 3, ...)\n",
        "  callbacks.append(tb_callback)\n",
        "\n",
        "  # Early Stopping\n",
        "  # --------------\n",
        "  es_callback = tf.keras.callbacks.EarlyStopping(monitor='val_accuracy', mode = \"max\", patience=20, restore_best_weights=True)\n",
        "  #es_callback = tf.keras.callbacks.EarlyStopping(monitor='val_loss', mode = \"min\", patience=30, restore_best_weights=True)\n",
        "  callbacks.append(es_callback)\n",
        "\n",
        "  return callbacks"
      ]
    },
    {
      "cell_type": "markdown",
      "metadata": {
        "id": "X3WM0Ag_7KmZ"
      },
      "source": [
        "## Model's parameters"
      ]
    },
    {
      "cell_type": "code",
      "execution_count": 7,
      "metadata": {
        "id": "4d-CS1j8cVrQ"
      },
      "outputs": [],
      "source": [
        "input_size = 256\n",
        "input_shape = (input_size, input_size, 3)\n",
        "epochs = 50\n",
        "batch_size = 16"
      ]
    },
    {
      "cell_type": "markdown",
      "metadata": {
        "id": "lph5cfbO7Vb6"
      },
      "source": [
        "## Split the data into training and validation sets"
      ]
    },
    {
      "cell_type": "code",
      "execution_count": 8,
      "metadata": {
        "colab": {
          "base_uri": "https://localhost:8080/"
        },
        "id": "VsKDmrNrsH2m",
        "outputId": "b63c5430-8884-4571-a24c-baa06e345a34"
      },
      "outputs": [
        {
          "name": "stdout",
          "output_type": "stream",
          "text": [
            "Found 14189 images belonging to 14 classes.\n",
            "Found 3539 images belonging to 14 classes.\n"
          ]
        }
      ],
      "source": [
        "labels = ['Apple','Blueberry','Cherry','Corn','Grape','Orange','Peach','Pepper','Potato','Raspberry','Soybean','Squash','Strawberry','Tomato']\n",
        "\n",
        "# parameters for the ImageDataGenerator function (preprocessing)\n",
        "reshape_mean = False\n",
        "reshape_sd   = False\n",
        "use_data_augmentation = True\n",
        "\n",
        "from tensorflow.keras.applications.vgg16 import preprocess_input\n",
        "\n",
        "if use_data_augmentation:\n",
        "  train_data_gen = ImageDataGenerator(validation_split=0.2, samplewise_center = reshape_mean, samplewise_std_normalization = reshape_sd,\n",
        "                                      rotation_range = 30,\n",
        "                                      height_shift_range = 50,\n",
        "                                      width_shift_range = 50,\n",
        "                                      zoom_range = 0.3,\n",
        "                                      horizontal_flip = True,\n",
        "                                      vertical_flip = True,\n",
        "                                      fill_mode = \"constant\",\n",
        "                                      rescale = 1/255.,\n",
        "                                      preprocessing_function = preprocess_input)\n",
        "else:\n",
        "  train_data_gen = ImageDataGenerator(validation_split=0.2,\n",
        "                                      rescale = 1/255.,\n",
        "                                      preprocessing_function = preprocess_input)  \n",
        "target_size = 256\n",
        "train_gen = train_data_gen.flow_from_directory(directory=dataset_dir,\n",
        "                                               target_size=(target_size,target_size),\n",
        "                                               color_mode='rgb',\n",
        "                                               classes=None, # can be set to labels\n",
        "                                               class_mode='categorical',\n",
        "                                               batch_size=batch_size,\n",
        "                                               shuffle=True,\n",
        "                                               seed=seed,\n",
        "                                               subset=\"training\")\n",
        "val_gen = train_data_gen.flow_from_directory(directory=dataset_dir,\n",
        "                                               target_size=(target_size,target_size),\n",
        "                                               color_mode='rgb',\n",
        "                                               classes=None, # can be set to labels\n",
        "                                               class_mode='categorical',\n",
        "                                               batch_size=batch_size,\n",
        "                                               shuffle=False,\n",
        "                                               seed=seed,\n",
        "                                               subset=\"validation\")"
      ]
    },
    {
      "cell_type": "markdown",
      "metadata": {
        "id": "li2izvlc8ZaR"
      },
      "source": [
        "## Load vgg16"
      ]
    },
    {
      "cell_type": "code",
      "execution_count": 11,
      "metadata": {
        "colab": {
          "base_uri": "https://localhost:8080/",
          "height": 1000
        },
        "id": "8ayy3digrdJ-",
        "outputId": "06c8bdea-88cf-4b50-992b-e1a3394449c3"
      },
      "outputs": [
        {
          "name": "stdout",
          "output_type": "stream",
          "text": [
            "Model: \"vgg16\"\n",
            "_________________________________________________________________\n",
            " Layer (type)                Output Shape              Param #   \n",
            "=================================================================\n",
            " input_1 (InputLayer)        [(None, 224, 224, 3)]     0         \n",
            "                                                                 \n",
            " block1_conv1 (Conv2D)       (None, 224, 224, 64)      1792      \n",
            "                                                                 \n",
            " block1_conv2 (Conv2D)       (None, 224, 224, 64)      36928     \n",
            "                                                                 \n",
            " block1_pool (MaxPooling2D)  (None, 112, 112, 64)      0         \n",
            "                                                                 \n",
            " block2_conv1 (Conv2D)       (None, 112, 112, 128)     73856     \n",
            "                                                                 \n",
            " block2_conv2 (Conv2D)       (None, 112, 112, 128)     147584    \n",
            "                                                                 \n",
            " block2_pool (MaxPooling2D)  (None, 56, 56, 128)       0         \n",
            "                                                                 \n",
            " block3_conv1 (Conv2D)       (None, 56, 56, 256)       295168    \n",
            "                                                                 \n",
            " block3_conv2 (Conv2D)       (None, 56, 56, 256)       590080    \n",
            "                                                                 \n",
            " block3_conv3 (Conv2D)       (None, 56, 56, 256)       590080    \n",
            "                                                                 \n",
            " block3_pool (MaxPooling2D)  (None, 28, 28, 256)       0         \n",
            "                                                                 \n",
            " block4_conv1 (Conv2D)       (None, 28, 28, 512)       1180160   \n",
            "                                                                 \n",
            " block4_conv2 (Conv2D)       (None, 28, 28, 512)       2359808   \n",
            "                                                                 \n",
            " block4_conv3 (Conv2D)       (None, 28, 28, 512)       2359808   \n",
            "                                                                 \n",
            " block4_pool (MaxPooling2D)  (None, 14, 14, 512)       0         \n",
            "                                                                 \n",
            " block5_conv1 (Conv2D)       (None, 14, 14, 512)       2359808   \n",
            "                                                                 \n",
            " block5_conv2 (Conv2D)       (None, 14, 14, 512)       2359808   \n",
            "                                                                 \n",
            " block5_conv3 (Conv2D)       (None, 14, 14, 512)       2359808   \n",
            "                                                                 \n",
            " block5_pool (MaxPooling2D)  (None, 7, 7, 512)         0         \n",
            "                                                                 \n",
            "=================================================================\n",
            "Total params: 14,714,688\n",
            "Trainable params: 14,714,688\n",
            "Non-trainable params: 0\n",
            "_________________________________________________________________\n"
          ]
        },
        {
          "data": {
            "image/png": "[encoded data removed]",
            "text/plain": [
              "<IPython.core.display.Image object>"
            ]
          },
          "execution_count": 11,
          "metadata": {},
          "output_type": "execute_result"
        }
      ],
      "source": [
        "supernet = tfk.applications.VGG16(\n",
        "    include_top=False,\n",
        "    weights=\"imagenet\",\n",
        "    input_shape=(224,224,3) # vgg16 has images of size 224x244 as input\n",
        ")\n",
        "supernet.summary()\n",
        "tfk.utils.plot_model(supernet)"
      ]
    },
    {
      "cell_type": "markdown",
      "metadata": {
        "id": "abwF57zt8dHK"
      },
      "source": [
        "## Design the architecture"
      ]
    },
    {
      "cell_type": "code",
      "execution_count": 12,
      "metadata": {
        "id": "B6BWzWFmtH5Y"
      },
      "outputs": [],
      "source": [
        "supernet.trainable = False\n",
        "input_shape = 256\n",
        "new_size = 224\n",
        "inputs = tfk.Input(shape=(input_shape,input_shape,3))\n",
        "x = tfkl.Resizing(new_size, new_size, interpolation=\"bicubic\")(inputs)\n",
        "x = supernet(x)\n",
        "\n",
        "conv1 = tfkl.Conv2D(\n",
        "        filters=128,\n",
        "        kernel_size=(3, 3),\n",
        "        strides = (1, 1),\n",
        "        padding = 'same',\n",
        "        activation = 'relu',\n",
        "        kernel_initializer = tfk.initializers.GlorotUniform(seed)\n",
        "    )(x)\n",
        "pool1 = tfkl.MaxPooling2D(\n",
        "        pool_size = (2, 2)\n",
        "    )(conv1)\n",
        "\n",
        "conv2 = tfkl.Conv2D(\n",
        "        filters=64,\n",
        "        kernel_size=(3, 3),\n",
        "        strides = (1, 1),\n",
        "        padding = 'same',\n",
        "        activation = 'relu',\n",
        "        kernel_initializer = tfk.initializers.GlorotUniform(seed)\n",
        "    )(pool1)\n",
        "pool2 = tfkl.MaxPooling2D(\n",
        "        pool_size = (2, 2)\n",
        "    )(conv2)\n",
        "\n",
        "x = tfkl.Flatten(name='Flattening')(pool2)\n",
        "x = tfkl.Dense(\n",
        "        128, \n",
        "        activation='relu',\n",
        "        kernel_initializer = tfk.initializers.GlorotUniform(seed),\n",
        "        kernel_regularizer=tf.keras.regularizers.l2(1e-3))(x)\n",
        "x = tfkl.Dropout(0.2, seed=seed)(x)\n",
        "x = tfkl.Dense(\n",
        "        128, \n",
        "        activation='relu',\n",
        "        kernel_initializer = tfk.initializers.GlorotUniform(seed),\n",
        "        kernel_regularizer=tf.keras.regularizers.l2(1e-3))(x)\n",
        "x = tfkl.Dropout(0.2, seed=seed)(x)\n",
        "outputs = tfkl.Dense(\n",
        "        14, \n",
        "        activation='softmax',\n",
        "        kernel_initializer = tfk.initializers.GlorotUniform(seed),\n",
        "        kernel_regularizer=tf.keras.regularizers.l2(1e-3))(x)\n",
        "\n",
        "\n",
        "    # Connect input and output through the Model class\n",
        "tl_model = tfk.Model(inputs=inputs, outputs=outputs, name='model')\n",
        "\n",
        "    # Compile the model\n",
        "tl_model.compile(loss=tfk.losses.CategoricalCrossentropy(), optimizer=tfk.optimizers.Adam(1e-4), metrics='accuracy') #if tf basso"
      ]
    },
    {
      "cell_type": "markdown",
      "metadata": {
        "id": "E3fZODGN9fcO"
      },
      "source": [
        "## Visualise the architecture"
      ]
    },
    {
      "cell_type": "code",
      "execution_count": 13,
      "metadata": {
        "colab": {
          "base_uri": "https://localhost:8080/",
          "height": 1000
        },
        "id": "9CzTHKlXuLe_",
        "outputId": "498e72ca-de87-40cb-fbee-05d526fd09c8"
      },
      "outputs": [
        {
          "name": "stdout",
          "output_type": "stream",
          "text": [
            "Model: \"model\"\n",
            "_________________________________________________________________\n",
            " Layer (type)                Output Shape              Param #   \n",
            "=================================================================\n",
            " input_2 (InputLayer)        [(None, 256, 256, 3)]     0         \n",
            "                                                                 \n",
            " resizing (Resizing)         (None, 224, 224, 3)       0         \n",
            "                                                                 \n",
            " vgg16 (Functional)          (None, 7, 7, 512)         14714688  \n",
            "                                                                 \n",
            " conv2d (Conv2D)             (None, 7, 7, 128)         589952    \n",
            "                                                                 \n",
            " max_pooling2d (MaxPooling2D  (None, 3, 3, 128)        0         \n",
            " )                                                               \n",
            "                                                                 \n",
            " conv2d_1 (Conv2D)           (None, 3, 3, 64)          73792     \n",
            "                                                                 \n",
            " max_pooling2d_1 (MaxPooling  (None, 1, 1, 64)         0         \n",
            " 2D)                                                             \n",
            "                                                                 \n",
            " Flattening (Flatten)        (None, 64)                0         \n",
            "                                                                 \n",
            " dense (Dense)               (None, 128)               8320      \n",
            "                                                                 \n",
            " dropout (Dropout)           (None, 128)               0         \n",
            "                                                                 \n",
            " dense_1 (Dense)             (None, 128)               16512     \n",
            "                                                                 \n",
            " dropout_1 (Dropout)         (None, 128)               0         \n",
            "                                                                 \n",
            " dense_2 (Dense)             (None, 14)                1806      \n",
            "                                                                 \n",
            "=================================================================\n",
            "Total params: 15,405,070\n",
            "Trainable params: 690,382\n",
            "Non-trainable params: 14,714,688\n",
            "_________________________________________________________________\n"
          ]
        },
        {
          "data": {
            "image/png": "[encoded data removed]",
            "text/plain": [
              "<PIL.Image.Image image mode=RGBA size=648x1769 at 0x7F04A8FAC490>"
            ]
          },
          "execution_count": 13,
          "metadata": {},
          "output_type": "execute_result"
        }
      ],
      "source": [
        "tl_model.summary()\n",
        "visualkeras.layered_view(tl_model, legend=True, spacing=10, scale_xy=5)"
      ]
    },
    {
      "cell_type": "markdown",
      "metadata": {
        "id": "HjXKXE_a9FlY"
      },
      "source": [
        "## Fine tuning"
      ]
    },
    {
      "cell_type": "code",
      "execution_count": 14,
      "metadata": {
        "colab": {
          "base_uri": "https://localhost:8080/"
        },
        "id": "SmsTnEdr9zkU",
        "outputId": "6c899c4c-a8ee-4c2c-8ca5-f06a3a725ad7"
      },
      "outputs": [
        {
          "name": "stdout",
          "output_type": "stream",
          "text": [
            "Model: \"model\"\n",
            "_________________________________________________________________\n",
            " Layer (type)                Output Shape              Param #   \n",
            "=================================================================\n",
            " input_2 (InputLayer)        [(None, 256, 256, 3)]     0         \n",
            "                                                                 \n",
            " resizing (Resizing)         (None, 224, 224, 3)       0         \n",
            "                                                                 \n",
            " vgg16 (Functional)          (None, 7, 7, 512)         14714688  \n",
            "                                                                 \n",
            " conv2d (Conv2D)             (None, 7, 7, 128)         589952    \n",
            "                                                                 \n",
            " max_pooling2d (MaxPooling2D  (None, 3, 3, 128)        0         \n",
            " )                                                               \n",
            "                                                                 \n",
            " conv2d_1 (Conv2D)           (None, 3, 3, 64)          73792     \n",
            "                                                                 \n",
            " max_pooling2d_1 (MaxPooling  (None, 1, 1, 64)         0         \n",
            " 2D)                                                             \n",
            "                                                                 \n",
            " Flattening (Flatten)        (None, 64)                0         \n",
            "                                                                 \n",
            " dense (Dense)               (None, 128)               8320      \n",
            "                                                                 \n",
            " dropout (Dropout)           (None, 128)               0         \n",
            "                                                                 \n",
            " dense_1 (Dense)             (None, 128)               16512     \n",
            "                                                                 \n",
            " dropout_1 (Dropout)         (None, 128)               0         \n",
            "                                                                 \n",
            " dense_2 (Dense)             (None, 14)                1806      \n",
            "                                                                 \n",
            "=================================================================\n",
            "Total params: 15,405,070\n",
            "Trainable params: 690,382\n",
            "Non-trainable params: 14,714,688\n",
            "_________________________________________________________________\n"
          ]
        }
      ],
      "source": [
        "ft_model = tl_model\n",
        "ft_model.summary()"
      ]
    },
    {
      "cell_type": "code",
      "execution_count": 15,
      "metadata": {
        "id": "UtZvou3XXc5K"
      },
      "outputs": [],
      "source": [
        "ft_model.get_layer('vgg16').trainable = True\n",
        "#for i, layer in enumerate(ft_model.get_layer('vgg16').layers):\n",
        "#   print(i, layer.name, layer.trainable)"
      ]
    },
    {
      "cell_type": "code",
      "execution_count": 16,
      "metadata": {
        "colab": {
          "base_uri": "https://localhost:8080/"
        },
        "id": "SJn7alIbXg1H",
        "outputId": "a8c616de-d4a9-450c-d6e6-a7e5fb887ccd"
      },
      "outputs": [
        {
          "name": "stdout",
          "output_type": "stream",
          "text": [
            "0 input_1 False\n",
            "1 block1_conv1 False\n",
            "2 block1_conv2 False\n",
            "3 block1_pool False\n",
            "4 block2_conv1 False\n",
            "5 block2_conv2 False\n",
            "6 block2_pool False\n",
            "7 block3_conv1 False\n",
            "8 block3_conv2 False\n",
            "9 block3_conv3 False\n",
            "10 block3_pool False\n",
            "11 block4_conv1 False\n",
            "12 block4_conv2 False\n",
            "13 block4_conv3 False\n",
            "14 block4_pool True\n",
            "15 block5_conv1 True\n",
            "16 block5_conv2 True\n",
            "17 block5_conv3 True\n",
            "18 block5_pool True\n",
            "Model: \"model\"\n",
            "_________________________________________________________________\n",
            " Layer (type)                Output Shape              Param #   \n",
            "=================================================================\n",
            " input_2 (InputLayer)        [(None, 256, 256, 3)]     0         \n",
            "                                                                 \n",
            " resizing (Resizing)         (None, 224, 224, 3)       0         \n",
            "                                                                 \n",
            " vgg16 (Functional)          (None, 7, 7, 512)         14714688  \n",
            "                                                                 \n",
            " conv2d (Conv2D)             (None, 7, 7, 128)         589952    \n",
            "                                                                 \n",
            " max_pooling2d (MaxPooling2D  (None, 3, 3, 128)        0         \n",
            " )                                                               \n",
            "                                                                 \n",
            " conv2d_1 (Conv2D)           (None, 3, 3, 64)          73792     \n",
            "                                                                 \n",
            " max_pooling2d_1 (MaxPooling  (None, 1, 1, 64)         0         \n",
            " 2D)                                                             \n",
            "                                                                 \n",
            " Flattening (Flatten)        (None, 64)                0         \n",
            "                                                                 \n",
            " dense (Dense)               (None, 128)               8320      \n",
            "                                                                 \n",
            " dropout (Dropout)           (None, 128)               0         \n",
            "                                                                 \n",
            " dense_1 (Dense)             (None, 128)               16512     \n",
            "                                                                 \n",
            " dropout_1 (Dropout)         (None, 128)               0         \n",
            "                                                                 \n",
            " dense_2 (Dense)             (None, 14)                1806      \n",
            "                                                                 \n",
            "=================================================================\n",
            "Total params: 15,405,070\n",
            "Trainable params: 7,769,806\n",
            "Non-trainable params: 7,635,264\n",
            "_________________________________________________________________\n"
          ]
        }
      ],
      "source": [
        "# Freeze first N layers, e.g., until 14th\n",
        "for i, layer in enumerate(ft_model.get_layer('vgg16').layers[:14]):\n",
        "  layer.trainable=False\n",
        "for i, layer in enumerate(ft_model.get_layer('vgg16').layers):\n",
        "   print(i, layer.name, layer.trainable)\n",
        "ft_model.summary()"
      ]
    },
    {
      "cell_type": "markdown",
      "metadata": {
        "id": "ONQE2PCi9IDK"
      },
      "source": [
        "## Compile the model"
      ]
    },
    {
      "cell_type": "code",
      "execution_count": 17,
      "metadata": {
        "id": "qQWHNbZQXxV_"
      },
      "outputs": [],
      "source": [
        "ft_model.compile(loss=tfk.losses.CategoricalCrossentropy(), optimizer=tfk.optimizers.Adam(1e-4), metrics='accuracy')"
      ]
    },
    {
      "cell_type": "markdown",
      "metadata": {
        "id": "wze2k97S9DRK"
      },
      "source": [
        "## Fit the model"
      ]
    },
    {
      "cell_type": "code",
      "execution_count": 1,
      "metadata": {
        "colab": {
          "base_uri": "https://localhost:8080/",
          "height": 380
        },
        "id": "u3eLbNIpX0Um",
        "outputId": "a3577753-a8d5-44cf-e2dd-d80e17b3f2e6"
      },
      "outputs": [],
      "source": [
        "epochs = 50\n",
        "batch_size = 16\n",
        "FT_vgg16_callbacks = create_folders_and_callbacks(model_name='model_FT', transfer_learning = True)\n",
        "ft_history = ft_model.fit(\n",
        "    x = train_gen,\n",
        "    batch_size = batch_size,\n",
        "    epochs = epochs,\n",
        "    validation_data = val_gen,\n",
        "    callbacks = FT_vgg16_callbacks\n",
        ").history"
      ]
    }
  ],
  "metadata": {
    "accelerator": "GPU",
    "colab": {
      "collapsed_sections": [],
      "name": "TransferLearning_FT_vgg16.ipynb",
      "provenance": [],
      "toc_visible": true
    },
    "interpreter": {
      "hash": "0d0d1bce3d99a369e1b3692bad887850a832ed7c7f63d0e0d78616c3419ee9db"
    },
    "kernelspec": {
      "display_name": "Python 3.8.8 ('base')",
      "language": "python",
      "name": "python3"
    },
    "language_info": {
      "codemirror_mode": {
        "name": "ipython",
        "version": 3
      },
      "file_extension": ".py",
      "mimetype": "text/x-python",
      "name": "python",
      "nbconvert_exporter": "python",
      "pygments_lexer": "ipython3",
      "version": "3.8.8"
    }
  },
  "nbformat": 4,
  "nbformat_minor": 0
}
